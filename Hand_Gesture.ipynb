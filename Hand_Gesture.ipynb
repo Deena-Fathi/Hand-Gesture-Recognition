{
 "cells": [
  {
   "cell_type": "code",
   "execution_count": 19,
   "metadata": {
    "id": "igMyGnjE9hEp"
   },
   "outputs": [],
   "source": [
    "import csv\n",
    "import numpy as np\n",
    "import tensorflow as tf\n",
    "from sklearn.model_selection import train_test_split\n",
    "\n",
    "RANDOM_SEED = 42"
   ]
  },
  {
   "cell_type": "markdown",
   "metadata": {
    "id": "XjnL0uso9hEz"
   },
   "source": [
    "# Dataset reading"
   ]
  },
  {
   "cell_type": "code",
   "execution_count": 20,
   "metadata": {
    "id": "9NvZP2Zn9hEy"
   },
   "outputs": [],
   "source": [
    "# Upload the dataset\n",
    "dataset = 'keypoint.csv'\n",
    "NUM_CLASSES = 4"
   ]
  },
  {
   "cell_type": "code",
   "execution_count": 21,
   "metadata": {
    "id": "QT5ZqtEz9hE0"
   },
   "outputs": [],
   "source": [
    "# Creating the dataset\n",
    "X_dataset = np.loadtxt(dataset, delimiter=',', dtype='float32', usecols=list(range(1, (21 * 2) + 1)))"
   ]
  },
  {
   "cell_type": "code",
   "execution_count": 22,
   "metadata": {
    "id": "QmoKFsp49hE0"
   },
   "outputs": [],
   "source": [
    "# Creating the labels\n",
    "y_dataset = np.loadtxt(dataset, delimiter=',', dtype='int32', usecols=(0))"
   ]
  },
  {
   "cell_type": "code",
   "execution_count": 23,
   "metadata": {
    "id": "xQU7JTZ_9hE0"
   },
   "outputs": [],
   "source": [
    "# Splitting the dataset into the Training set and Test set\n",
    "X_train, X_test, y_train, y_test = train_test_split(X_dataset, y_dataset, test_size=0.25, random_state=RANDOM_SEED)"
   ]
  },
  {
   "cell_type": "code",
   "execution_count": 24,
   "metadata": {},
   "outputs": [
    {
     "name": "stdout",
     "output_type": "stream",
     "text": [
      "(150, 42)\n",
      "(150,)\n"
     ]
    }
   ],
   "source": [
    "# Checking the shape of the dataset\n",
    "print(X_train.shape)\n",
    "print(y_train.shape)"
   ]
  },
  {
   "cell_type": "markdown",
   "metadata": {
    "id": "mxK_lETT9hE0"
   },
   "source": [
    "# Model building"
   ]
  },
  {
   "cell_type": "code",
   "execution_count": 25,
   "metadata": {
    "id": "vHBmUf1t9hE1"
   },
   "outputs": [],
   "source": [
    "# Building the modle\n",
    "model = tf.keras.models.Sequential([\n",
    "    tf.keras.layers.Input((42,)),\n",
    "    tf.keras.layers.Dense(128, activation='relu'),\n",
    "    tf.keras.layers.Dropout(0.5),\n",
    "    tf.keras.layers.Dense(64, activation='relu'),\n",
    "    tf.keras.layers.Dropout(0.5),\n",
    "    tf.keras.layers.Dense(NUM_CLASSES, activation='softmax')\n",
    "])"
   ]
  },
  {
   "cell_type": "code",
   "execution_count": 26,
   "metadata": {
    "colab": {
     "base_uri": "https://localhost:8080/"
    },
    "id": "ypqky9tc9hE1",
    "outputId": "5db082bb-30e3-4110-bf63-a1ee777ecd46"
   },
   "outputs": [
    {
     "name": "stdout",
     "output_type": "stream",
     "text": [
      "Model: \"sequential_1\"\n",
      "_________________________________________________________________\n",
      " Layer (type)                Output Shape              Param #   \n",
      "=================================================================\n",
      " dense_3 (Dense)             (None, 128)               5504      \n",
      "                                                                 \n",
      " dropout_2 (Dropout)         (None, 128)               0         \n",
      "                                                                 \n",
      " dense_4 (Dense)             (None, 64)                8256      \n",
      "                                                                 \n",
      " dropout_3 (Dropout)         (None, 64)                0         \n",
      "                                                                 \n",
      " dense_5 (Dense)             (None, 4)                 260       \n",
      "                                                                 \n",
      "=================================================================\n",
      "Total params: 14020 (54.77 KB)\n",
      "Trainable params: 14020 (54.77 KB)\n",
      "Non-trainable params: 0 (0.00 Byte)\n",
      "_________________________________________________________________\n"
     ]
    }
   ],
   "source": [
    "model.summary()"
   ]
  },
  {
   "cell_type": "code",
   "execution_count": 27,
   "metadata": {
    "id": "c3Dac0M_9hE2"
   },
   "outputs": [],
   "source": [
    "# Model compilation\n",
    "model.compile(optimizer='adam',\n",
    "              loss='sparse_categorical_crossentropy', \n",
    "              metrics=['accuracy'])"
   ]
  },
  {
   "cell_type": "markdown",
   "metadata": {
    "id": "7XI0j1Iu9hE2"
   },
   "source": [
    "# Model training"
   ]
  },
  {
   "cell_type": "code",
   "execution_count": 35,
   "metadata": {
    "colab": {
     "base_uri": "https://localhost:8080/"
    },
    "id": "WirBl-JE9hE3",
    "outputId": "71b30ca2-8294-4d9d-8aa2-800d90d399de",
    "scrolled": true
   },
   "outputs": [
    {
     "name": "stdout",
     "output_type": "stream",
     "text": [
      "Epoch 1/100\n",
      "5/5 [==============================] - 0s 18ms/step - loss: 0.8749 - accuracy: 0.6000 - val_loss: 0.5700 - val_accuracy: 0.8000\n",
      "Epoch 2/100\n",
      "5/5 [==============================] - 0s 8ms/step - loss: 0.8712 - accuracy: 0.6133 - val_loss: 0.5394 - val_accuracy: 0.8000\n",
      "Epoch 3/100\n",
      "5/5 [==============================] - 0s 8ms/step - loss: 0.8459 - accuracy: 0.6333 - val_loss: 0.5139 - val_accuracy: 0.8200\n",
      "Epoch 4/100\n",
      "5/5 [==============================] - 0s 8ms/step - loss: 0.8671 - accuracy: 0.6400 - val_loss: 0.5965 - val_accuracy: 0.8600\n",
      "Epoch 5/100\n",
      "5/5 [==============================] - 0s 8ms/step - loss: 0.7721 - accuracy: 0.6600 - val_loss: 0.6485 - val_accuracy: 0.7800\n",
      "Epoch 6/100\n",
      "5/5 [==============================] - 0s 7ms/step - loss: 0.8355 - accuracy: 0.6600 - val_loss: 0.6264 - val_accuracy: 0.7600\n",
      "Epoch 7/100\n",
      "5/5 [==============================] - 0s 8ms/step - loss: 0.8277 - accuracy: 0.6600 - val_loss: 0.5818 - val_accuracy: 0.8000\n",
      "Epoch 8/100\n",
      "5/5 [==============================] - 0s 8ms/step - loss: 0.8169 - accuracy: 0.6600 - val_loss: 0.5191 - val_accuracy: 0.8800\n",
      "Epoch 9/100\n",
      "5/5 [==============================] - 0s 8ms/step - loss: 0.8489 - accuracy: 0.6533 - val_loss: 0.5755 - val_accuracy: 0.8400\n",
      "Epoch 10/100\n",
      "5/5 [==============================] - 0s 9ms/step - loss: 0.7892 - accuracy: 0.7200 - val_loss: 0.5560 - val_accuracy: 0.8800\n",
      "Epoch 11/100\n",
      "5/5 [==============================] - 0s 8ms/step - loss: 0.7395 - accuracy: 0.7200 - val_loss: 0.5363 - val_accuracy: 0.8400\n",
      "Epoch 12/100\n",
      "5/5 [==============================] - 0s 9ms/step - loss: 0.9063 - accuracy: 0.5733 - val_loss: 0.5244 - val_accuracy: 0.8200\n",
      "Epoch 13/100\n",
      "5/5 [==============================] - 0s 8ms/step - loss: 0.8554 - accuracy: 0.6733 - val_loss: 0.5320 - val_accuracy: 0.8600\n",
      "Epoch 14/100\n",
      "5/5 [==============================] - 0s 8ms/step - loss: 0.8500 - accuracy: 0.6667 - val_loss: 0.5168 - val_accuracy: 0.8800\n",
      "Epoch 15/100\n",
      "5/5 [==============================] - 0s 7ms/step - loss: 0.7807 - accuracy: 0.6933 - val_loss: 0.4778 - val_accuracy: 0.8600\n",
      "Epoch 16/100\n",
      "5/5 [==============================] - 0s 7ms/step - loss: 0.8613 - accuracy: 0.6333 - val_loss: 0.5882 - val_accuracy: 0.8000\n",
      "Epoch 17/100\n",
      "5/5 [==============================] - 0s 8ms/step - loss: 0.7558 - accuracy: 0.6667 - val_loss: 0.5539 - val_accuracy: 0.8000\n",
      "Epoch 18/100\n",
      "5/5 [==============================] - 0s 7ms/step - loss: 0.7340 - accuracy: 0.6867 - val_loss: 0.5232 - val_accuracy: 0.8600\n",
      "Epoch 19/100\n",
      "5/5 [==============================] - 0s 9ms/step - loss: 0.9129 - accuracy: 0.6533 - val_loss: 0.5185 - val_accuracy: 0.8600\n",
      "Epoch 20/100\n",
      "5/5 [==============================] - 0s 8ms/step - loss: 0.8173 - accuracy: 0.6867 - val_loss: 0.5381 - val_accuracy: 0.7800\n",
      "Epoch 21/100\n",
      "5/5 [==============================] - 0s 8ms/step - loss: 0.8560 - accuracy: 0.6067 - val_loss: 0.5551 - val_accuracy: 0.8000\n",
      "Epoch 22/100\n",
      "5/5 [==============================] - 0s 7ms/step - loss: 0.8572 - accuracy: 0.6333 - val_loss: 0.5830 - val_accuracy: 0.8400\n",
      "Epoch 23/100\n",
      "5/5 [==============================] - 0s 7ms/step - loss: 0.8304 - accuracy: 0.6600 - val_loss: 0.5351 - val_accuracy: 0.8600\n",
      "Epoch 24/100\n",
      "5/5 [==============================] - 0s 8ms/step - loss: 0.8243 - accuracy: 0.6800 - val_loss: 0.4809 - val_accuracy: 0.8800\n",
      "Epoch 25/100\n",
      "5/5 [==============================] - 0s 8ms/step - loss: 0.8040 - accuracy: 0.6733 - val_loss: 0.4879 - val_accuracy: 0.8600\n",
      "Epoch 26/100\n",
      "5/5 [==============================] - 0s 8ms/step - loss: 0.8378 - accuracy: 0.6333 - val_loss: 0.5135 - val_accuracy: 0.8400\n",
      "Epoch 27/100\n",
      "5/5 [==============================] - 0s 8ms/step - loss: 0.7403 - accuracy: 0.7067 - val_loss: 0.5536 - val_accuracy: 0.8200\n",
      "Epoch 28/100\n",
      "5/5 [==============================] - 0s 8ms/step - loss: 0.7479 - accuracy: 0.7467 - val_loss: 0.5534 - val_accuracy: 0.8400\n",
      "Epoch 29/100\n",
      "5/5 [==============================] - 0s 8ms/step - loss: 0.8165 - accuracy: 0.7067 - val_loss: 0.5524 - val_accuracy: 0.8000\n",
      "Epoch 30/100\n",
      "5/5 [==============================] - 0s 8ms/step - loss: 0.8461 - accuracy: 0.6733 - val_loss: 0.5459 - val_accuracy: 0.8200\n",
      "Epoch 31/100\n",
      "5/5 [==============================] - 0s 8ms/step - loss: 0.7459 - accuracy: 0.6867 - val_loss: 0.5202 - val_accuracy: 0.8400\n",
      "Epoch 32/100\n",
      "5/5 [==============================] - 0s 8ms/step - loss: 0.8705 - accuracy: 0.6200 - val_loss: 0.4451 - val_accuracy: 0.9200\n",
      "Epoch 33/100\n",
      "5/5 [==============================] - 0s 8ms/step - loss: 1.0723 - accuracy: 0.5533 - val_loss: 0.5707 - val_accuracy: 0.8200\n",
      "Epoch 34/100\n",
      "5/5 [==============================] - 0s 8ms/step - loss: 0.9288 - accuracy: 0.6333 - val_loss: 0.6600 - val_accuracy: 0.7200\n",
      "Epoch 35/100\n",
      "5/5 [==============================] - 0s 8ms/step - loss: 0.7991 - accuracy: 0.6533 - val_loss: 0.5096 - val_accuracy: 0.8000\n",
      "Epoch 36/100\n",
      "5/5 [==============================] - 0s 10ms/step - loss: 0.7738 - accuracy: 0.7400 - val_loss: 0.4410 - val_accuracy: 0.8800\n",
      "Epoch 37/100\n",
      "5/5 [==============================] - 0s 8ms/step - loss: 0.9514 - accuracy: 0.6800 - val_loss: 0.3514 - val_accuracy: 0.9200\n",
      "Epoch 38/100\n",
      "5/5 [==============================] - 0s 8ms/step - loss: 0.8365 - accuracy: 0.6800 - val_loss: 0.4144 - val_accuracy: 0.9400\n",
      "Epoch 39/100\n",
      "5/5 [==============================] - 0s 7ms/step - loss: 0.9057 - accuracy: 0.6133 - val_loss: 0.4680 - val_accuracy: 0.9400\n",
      "Epoch 40/100\n",
      "5/5 [==============================] - 0s 8ms/step - loss: 0.7599 - accuracy: 0.7067 - val_loss: 0.4895 - val_accuracy: 0.8600\n",
      "Epoch 41/100\n",
      "5/5 [==============================] - 0s 8ms/step - loss: 0.7388 - accuracy: 0.6600 - val_loss: 0.4869 - val_accuracy: 0.8000\n",
      "Epoch 42/100\n",
      "5/5 [==============================] - 0s 7ms/step - loss: 0.8565 - accuracy: 0.6267 - val_loss: 0.4506 - val_accuracy: 0.8400\n",
      "Epoch 43/100\n",
      "5/5 [==============================] - 0s 7ms/step - loss: 0.8477 - accuracy: 0.6733 - val_loss: 0.4546 - val_accuracy: 0.8400\n",
      "Epoch 44/100\n",
      "5/5 [==============================] - 0s 7ms/step - loss: 0.7839 - accuracy: 0.6933 - val_loss: 0.4003 - val_accuracy: 0.9600\n",
      "Epoch 45/100\n",
      "5/5 [==============================] - 0s 8ms/step - loss: 0.7980 - accuracy: 0.6800 - val_loss: 0.4196 - val_accuracy: 0.9600\n",
      "Epoch 46/100\n",
      "5/5 [==============================] - 0s 8ms/step - loss: 0.8146 - accuracy: 0.6733 - val_loss: 0.3902 - val_accuracy: 0.9400\n",
      "Epoch 47/100\n",
      "5/5 [==============================] - 0s 8ms/step - loss: 1.1434 - accuracy: 0.6133 - val_loss: 0.3839 - val_accuracy: 0.9400\n",
      "Epoch 48/100\n",
      "5/5 [==============================] - 0s 7ms/step - loss: 0.8793 - accuracy: 0.6200 - val_loss: 0.4852 - val_accuracy: 0.8600\n",
      "Epoch 49/100\n",
      "5/5 [==============================] - 0s 8ms/step - loss: 0.8482 - accuracy: 0.6333 - val_loss: 0.5054 - val_accuracy: 0.8600\n",
      "Epoch 50/100\n",
      "5/5 [==============================] - 0s 7ms/step - loss: 0.9554 - accuracy: 0.5533 - val_loss: 0.5819 - val_accuracy: 0.7800\n",
      "Epoch 51/100\n",
      "5/5 [==============================] - 0s 8ms/step - loss: 0.8799 - accuracy: 0.5867 - val_loss: 0.5283 - val_accuracy: 0.8200\n",
      "Epoch 52/100\n",
      "5/5 [==============================] - 0s 7ms/step - loss: 0.8945 - accuracy: 0.6267 - val_loss: 0.5393 - val_accuracy: 0.8200\n",
      "Epoch 53/100\n",
      "5/5 [==============================] - 0s 7ms/step - loss: 0.8184 - accuracy: 0.6533 - val_loss: 0.5840 - val_accuracy: 0.7800\n",
      "Epoch 54/100\n",
      "5/5 [==============================] - 0s 7ms/step - loss: 0.7700 - accuracy: 0.6867 - val_loss: 0.6069 - val_accuracy: 0.7800\n",
      "Epoch 55/100\n",
      "5/5 [==============================] - 0s 7ms/step - loss: 0.8062 - accuracy: 0.6733 - val_loss: 0.5679 - val_accuracy: 0.7800\n",
      "Epoch 56/100\n",
      "5/5 [==============================] - 0s 7ms/step - loss: 0.7661 - accuracy: 0.6800 - val_loss: 0.4615 - val_accuracy: 0.8600\n",
      "Epoch 57/100\n",
      "5/5 [==============================] - 0s 8ms/step - loss: 0.7469 - accuracy: 0.6867 - val_loss: 0.4120 - val_accuracy: 0.9200\n",
      "Epoch 58/100\n",
      "5/5 [==============================] - 0s 8ms/step - loss: 0.7906 - accuracy: 0.6800 - val_loss: 0.3563 - val_accuracy: 0.9000\n",
      "Epoch 59/100\n",
      "5/5 [==============================] - 0s 7ms/step - loss: 0.7926 - accuracy: 0.7533 - val_loss: 0.4124 - val_accuracy: 0.9200\n",
      "Epoch 60/100\n",
      "5/5 [==============================] - 0s 8ms/step - loss: 0.7874 - accuracy: 0.7067 - val_loss: 0.4216 - val_accuracy: 0.8800\n",
      "Epoch 61/100\n",
      "5/5 [==============================] - 0s 10ms/step - loss: 0.6604 - accuracy: 0.7533 - val_loss: 0.3797 - val_accuracy: 0.9400\n",
      "Epoch 62/100\n",
      "5/5 [==============================] - 0s 8ms/step - loss: 0.8453 - accuracy: 0.6467 - val_loss: 0.3796 - val_accuracy: 0.9200\n",
      "Epoch 63/100\n",
      "5/5 [==============================] - 0s 8ms/step - loss: 0.8106 - accuracy: 0.6600 - val_loss: 0.4182 - val_accuracy: 0.9400\n",
      "Epoch 64/100\n",
      "5/5 [==============================] - 0s 8ms/step - loss: 0.7757 - accuracy: 0.6667 - val_loss: 0.3155 - val_accuracy: 0.9600\n",
      "Epoch 65/100\n",
      "5/5 [==============================] - 0s 7ms/step - loss: 0.8987 - accuracy: 0.6267 - val_loss: 0.2962 - val_accuracy: 0.9600\n",
      "Epoch 66/100\n",
      "5/5 [==============================] - 0s 8ms/step - loss: 0.8665 - accuracy: 0.6333 - val_loss: 0.3139 - val_accuracy: 0.9600\n",
      "Epoch 67/100\n",
      "5/5 [==============================] - 0s 8ms/step - loss: 0.8397 - accuracy: 0.6867 - val_loss: 0.2598 - val_accuracy: 1.0000\n",
      "Epoch 68/100\n",
      "5/5 [==============================] - 0s 8ms/step - loss: 0.7423 - accuracy: 0.7067 - val_loss: 0.2533 - val_accuracy: 0.9600\n",
      "Epoch 69/100\n",
      "5/5 [==============================] - 0s 7ms/step - loss: 0.7790 - accuracy: 0.6733 - val_loss: 0.3462 - val_accuracy: 0.9800\n",
      "Epoch 70/100\n",
      "5/5 [==============================] - 0s 7ms/step - loss: 0.8105 - accuracy: 0.6800 - val_loss: 0.4451 - val_accuracy: 0.8600\n",
      "Epoch 71/100\n",
      "5/5 [==============================] - 0s 7ms/step - loss: 0.7972 - accuracy: 0.6400 - val_loss: 0.5244 - val_accuracy: 0.8200\n",
      "Epoch 72/100\n",
      "5/5 [==============================] - 0s 8ms/step - loss: 0.8486 - accuracy: 0.6333 - val_loss: 0.5170 - val_accuracy: 0.8200\n",
      "Epoch 73/100\n",
      "5/5 [==============================] - 0s 8ms/step - loss: 0.8777 - accuracy: 0.6333 - val_loss: 0.4987 - val_accuracy: 0.8200\n",
      "Epoch 74/100\n",
      "5/5 [==============================] - 0s 8ms/step - loss: 0.7757 - accuracy: 0.6600 - val_loss: 0.4553 - val_accuracy: 0.9000\n",
      "Epoch 75/100\n",
      "5/5 [==============================] - 0s 8ms/step - loss: 0.7278 - accuracy: 0.7000 - val_loss: 0.3529 - val_accuracy: 0.9600\n",
      "Epoch 76/100\n",
      "5/5 [==============================] - 0s 8ms/step - loss: 0.7723 - accuracy: 0.7067 - val_loss: 0.3183 - val_accuracy: 0.9600\n",
      "Epoch 77/100\n",
      "5/5 [==============================] - 0s 7ms/step - loss: 0.8107 - accuracy: 0.6400 - val_loss: 0.3401 - val_accuracy: 1.0000\n",
      "Epoch 78/100\n",
      "5/5 [==============================] - 0s 8ms/step - loss: 0.7710 - accuracy: 0.7067 - val_loss: 0.3251 - val_accuracy: 0.9600\n",
      "Epoch 79/100\n",
      "5/5 [==============================] - 0s 7ms/step - loss: 0.7828 - accuracy: 0.6867 - val_loss: 0.3938 - val_accuracy: 0.9600\n",
      "Epoch 80/100\n",
      "5/5 [==============================] - 0s 8ms/step - loss: 0.7207 - accuracy: 0.7000 - val_loss: 0.2264 - val_accuracy: 1.0000\n",
      "Epoch 81/100\n",
      "5/5 [==============================] - 0s 7ms/step - loss: 0.7184 - accuracy: 0.7200 - val_loss: 0.2247 - val_accuracy: 1.0000\n",
      "Epoch 82/100\n",
      "5/5 [==============================] - 0s 7ms/step - loss: 0.6693 - accuracy: 0.7267 - val_loss: 0.3030 - val_accuracy: 0.9800\n",
      "Epoch 83/100\n",
      "5/5 [==============================] - 0s 8ms/step - loss: 0.6772 - accuracy: 0.7733 - val_loss: 0.2726 - val_accuracy: 1.0000\n",
      "Epoch 84/100\n",
      "5/5 [==============================] - 0s 10ms/step - loss: 0.6049 - accuracy: 0.7733 - val_loss: 0.2330 - val_accuracy: 1.0000\n",
      "Epoch 85/100\n",
      "5/5 [==============================] - 0s 8ms/step - loss: 0.7056 - accuracy: 0.7000 - val_loss: 0.2612 - val_accuracy: 1.0000\n",
      "Epoch 86/100\n",
      "5/5 [==============================] - 0s 8ms/step - loss: 0.6996 - accuracy: 0.7067 - val_loss: 0.2978 - val_accuracy: 0.9800\n",
      "Epoch 87/100\n",
      "5/5 [==============================] - 0s 7ms/step - loss: 0.7321 - accuracy: 0.6867 - val_loss: 0.2754 - val_accuracy: 1.0000\n",
      "Epoch 88/100\n",
      "5/5 [==============================] - 0s 8ms/step - loss: 0.7189 - accuracy: 0.6867 - val_loss: 0.2211 - val_accuracy: 1.0000\n",
      "Epoch 89/100\n",
      "5/5 [==============================] - 0s 8ms/step - loss: 0.6495 - accuracy: 0.7267 - val_loss: 0.2392 - val_accuracy: 1.0000\n",
      "Epoch 90/100\n",
      "5/5 [==============================] - 0s 7ms/step - loss: 0.6871 - accuracy: 0.7200 - val_loss: 0.2351 - val_accuracy: 1.0000\n",
      "Epoch 91/100\n",
      "5/5 [==============================] - 0s 8ms/step - loss: 0.5850 - accuracy: 0.7667 - val_loss: 0.2903 - val_accuracy: 0.9600\n",
      "Epoch 92/100\n",
      "5/5 [==============================] - 0s 7ms/step - loss: 0.7037 - accuracy: 0.7133 - val_loss: 0.2533 - val_accuracy: 1.0000\n",
      "Epoch 93/100\n",
      "5/5 [==============================] - 0s 8ms/step - loss: 0.7246 - accuracy: 0.6867 - val_loss: 0.2780 - val_accuracy: 0.9800\n",
      "Epoch 94/100\n",
      "5/5 [==============================] - 0s 8ms/step - loss: 0.7035 - accuracy: 0.7000 - val_loss: 0.2542 - val_accuracy: 1.0000\n",
      "Epoch 95/100\n",
      "5/5 [==============================] - 0s 7ms/step - loss: 0.7192 - accuracy: 0.6867 - val_loss: 0.2428 - val_accuracy: 0.9800\n",
      "Epoch 96/100\n",
      "5/5 [==============================] - 0s 8ms/step - loss: 0.8047 - accuracy: 0.7133 - val_loss: 0.2353 - val_accuracy: 1.0000\n",
      "Epoch 97/100\n",
      "5/5 [==============================] - 0s 7ms/step - loss: 0.7683 - accuracy: 0.6867 - val_loss: 0.2207 - val_accuracy: 1.0000\n",
      "Epoch 98/100\n",
      "5/5 [==============================] - 0s 8ms/step - loss: 0.6694 - accuracy: 0.7600 - val_loss: 0.2102 - val_accuracy: 1.0000\n",
      "Epoch 99/100\n",
      "5/5 [==============================] - 0s 8ms/step - loss: 0.6817 - accuracy: 0.7267 - val_loss: 0.2081 - val_accuracy: 1.0000\n",
      "Epoch 100/100\n",
      "5/5 [==============================] - 0s 7ms/step - loss: 0.6780 - accuracy: 0.7000 - val_loss: 0.2256 - val_accuracy: 1.0000\n"
     ]
    },
    {
     "data": {
      "text/plain": [
       "<keras.src.callbacks.History at 0x1d0e27d1150>"
      ]
     },
     "execution_count": 35,
     "metadata": {},
     "output_type": "execute_result"
    }
   ],
   "source": [
    "# Training the model\n",
    "model.fit(X_train, \n",
    "          y_train, \n",
    "          epochs=100, \n",
    "          batch_size=32,\n",
    "          validation_data=(X_test, y_test))"
   ]
  },
  {
   "cell_type": "code",
   "execution_count": 36,
   "metadata": {
    "colab": {
     "base_uri": "https://localhost:8080/"
    },
    "id": "pxvb2Y299hE3",
    "outputId": "59eb3185-2e37-4b9e-bc9d-ab1b8ac29b7f"
   },
   "outputs": [
    {
     "name": "stdout",
     "output_type": "stream",
     "text": [
      "1/1 [==============================] - 0s 20ms/step - loss: 0.2256 - accuracy: 1.0000\n",
      "Test Accuracy: 100.00%\n"
     ]
    }
   ],
   "source": [
    "# Model evaluation\n",
    "val_loss, val_acc = model.evaluate(X_test, y_test, batch_size=128)\n",
    "print(f'Test Accuracy: {val_acc * 100:.2f}%')"
   ]
  },
  {
   "cell_type": "markdown",
   "metadata": {
    "id": "S3U4yNWx9hE4"
   },
   "source": [
    "# Confusion matrix"
   ]
  },
  {
   "cell_type": "code",
   "execution_count": 37,
   "metadata": {
    "colab": {
     "base_uri": "https://localhost:8080/",
     "height": 582
    },
    "id": "AP1V6SCk9hE5",
    "outputId": "08e41a80-7a4a-4619-8125-ecc371368d19"
   },
   "outputs": [
    {
     "name": "stdout",
     "output_type": "stream",
     "text": [
      "2/2 [==============================] - 0s 2ms/step\n"
     ]
    },
    {
     "data": {
      "image/png": "[encoded data removed]",
      "text/plain": [
       "<Figure size 700x600 with 2 Axes>"
      ]
     },
     "metadata": {},
     "output_type": "display_data"
    },
    {
     "name": "stdout",
     "output_type": "stream",
     "text": [
      "Classification Report\n",
      "              precision    recall  f1-score   support\n",
      "\n",
      "           0       1.00      1.00      1.00        10\n",
      "           1       1.00      1.00      1.00        15\n",
      "           2       1.00      1.00      1.00        15\n",
      "           3       1.00      1.00      1.00        10\n",
      "\n",
      "    accuracy                           1.00        50\n",
      "   macro avg       1.00      1.00      1.00        50\n",
      "weighted avg       1.00      1.00      1.00        50\n",
      "\n"
     ]
    }
   ],
   "source": [
    "import pandas as pd\n",
    "import seaborn as sns\n",
    "import matplotlib.pyplot as plt\n",
    "from sklearn.metrics import confusion_matrix, classification_report\n",
    "\n",
    "def print_confusion_matrix(y_true, y_pred, report=True):\n",
    "    labels = sorted(list(set(y_true)))\n",
    "    cmx_data = confusion_matrix(y_true, y_pred, labels=labels)\n",
    "    \n",
    "    df_cmx = pd.DataFrame(cmx_data, index=labels, columns=labels)\n",
    " \n",
    "    fig, ax = plt.subplots(figsize=(7, 6))\n",
    "    sns.heatmap(df_cmx, annot=True, fmt='g' ,square=False)\n",
    "    ax.set_ylim(len(set(y_true)), 0)\n",
    "    plt.show()\n",
    "    \n",
    "    if report:\n",
    "        print('Classification Report')\n",
    "        print(classification_report(y_test, y_pred))\n",
    "\n",
    "Y_pred = model.predict(X_test)\n",
    "y_pred = np.argmax(Y_pred, axis=1)\n",
    "\n",
    "print_confusion_matrix(y_test, y_pred)"
   ]
  },
  {
   "cell_type": "markdown",
   "metadata": {},
   "source": [
    "# Mediapipe Gesture"
   ]
  },
  {
   "cell_type": "code",
   "execution_count": 31,
   "metadata": {},
   "outputs": [],
   "source": [
    "import cv2\n",
    "import mediapipe as mp"
   ]
  },
  {
   "cell_type": "code",
   "execution_count": 32,
   "metadata": {},
   "outputs": [],
   "source": [
    "# initialize mediapipe\n",
    "# Import the MediaPipe Hands module\n",
    "mpHands = mp.solutions.hands\n",
    "# Create a Hands object\n",
    "# - max_num_hands: Specifies the maximum number of hands to detect (in this case, set to 1)\n",
    "# - min_detection_confidence: Specifies the minimum confidence value required for a hand to be detected\n",
    "hands = mpHands.Hands(max_num_hands=1, min_detection_confidence=0.7)\n",
    "\n",
    "# Import the MediaPipe Drawing Utilities module\n",
    "mpDraw = mp.solutions.drawing_utils"
   ]
  },
  {
   "cell_type": "markdown",
   "metadata": {},
   "source": [
    "- Palm (0)\n",
    "- Fist (1)\n",
    "- OK Sign (2)\n",
    "- Peace Sign (3)"
   ]
  },
  {
   "cell_type": "code",
   "execution_count": 33,
   "metadata": {},
   "outputs": [],
   "source": [
    "classNames = ['Palm','Fist','OK Sign','Peace Sign']"
   ]
  },
  {
   "cell_type": "code",
   "execution_count": 41,
   "metadata": {},
   "outputs": [
    {
     "name": "stdout",
     "output_type": "stream",
     "text": [
      "1/1 [==============================] - 0s 17ms/step\n",
      "1/1 [==============================] - 0s 17ms/step\n",
      "1/1 [==============================] - 0s 16ms/step\n",
      "1/1 [==============================] - 0s 16ms/step\n",
      "1/1 [==============================] - 0s 18ms/step\n",
      "1/1 [==============================] - 0s 17ms/step\n",
      "1/1 [==============================] - 0s 17ms/step\n",
      "1/1 [==============================] - 0s 17ms/step\n",
      "1/1 [==============================] - 0s 16ms/step\n",
      "1/1 [==============================] - 0s 17ms/step\n",
      "1/1 [==============================] - 0s 16ms/step\n",
      "1/1 [==============================] - 0s 17ms/step\n",
      "1/1 [==============================] - 0s 16ms/step\n",
      "1/1 [==============================] - 0s 18ms/step\n",
      "1/1 [==============================] - 0s 15ms/step\n",
      "1/1 [==============================] - 0s 15ms/step\n",
      "1/1 [==============================] - 0s 17ms/step\n",
      "1/1 [==============================] - 0s 16ms/step\n",
      "1/1 [==============================] - 0s 15ms/step\n",
      "1/1 [==============================] - 0s 16ms/step\n",
      "1/1 [==============================] - 0s 16ms/step\n",
      "1/1 [==============================] - 0s 16ms/step\n",
      "1/1 [==============================] - 0s 18ms/step\n",
      "1/1 [==============================] - 0s 19ms/step\n",
      "1/1 [==============================] - 0s 17ms/step\n",
      "1/1 [==============================] - 0s 15ms/step\n",
      "1/1 [==============================] - 0s 17ms/step\n",
      "1/1 [==============================] - 0s 16ms/step\n",
      "1/1 [==============================] - 0s 15ms/step\n",
      "1/1 [==============================] - 0s 17ms/step\n",
      "1/1 [==============================] - 0s 16ms/step\n",
      "1/1 [==============================] - 0s 17ms/step\n",
      "1/1 [==============================] - 0s 16ms/step\n",
      "1/1 [==============================] - 0s 16ms/step\n",
      "1/1 [==============================] - 0s 16ms/step\n",
      "1/1 [==============================] - 0s 15ms/step\n",
      "1/1 [==============================] - 0s 15ms/step\n",
      "1/1 [==============================] - 0s 15ms/step\n",
      "1/1 [==============================] - 0s 16ms/step\n",
      "1/1 [==============================] - 0s 15ms/step\n",
      "1/1 [==============================] - 0s 18ms/step\n",
      "1/1 [==============================] - 0s 17ms/step\n",
      "1/1 [==============================] - 0s 16ms/step\n",
      "1/1 [==============================] - 0s 16ms/step\n",
      "1/1 [==============================] - 0s 16ms/step\n",
      "1/1 [==============================] - 0s 16ms/step\n",
      "1/1 [==============================] - 0s 17ms/step\n",
      "1/1 [==============================] - 0s 17ms/step\n",
      "1/1 [==============================] - 0s 15ms/step\n",
      "1/1 [==============================] - 0s 17ms/step\n",
      "1/1 [==============================] - 0s 23ms/step\n",
      "1/1 [==============================] - 0s 16ms/step\n",
      "1/1 [==============================] - 0s 15ms/step\n",
      "1/1 [==============================] - 0s 16ms/step\n",
      "1/1 [==============================] - 0s 17ms/step\n",
      "1/1 [==============================] - 0s 18ms/step\n",
      "1/1 [==============================] - 0s 17ms/step\n",
      "1/1 [==============================] - 0s 16ms/step\n",
      "1/1 [==============================] - 0s 17ms/step\n",
      "1/1 [==============================] - 0s 16ms/step\n",
      "1/1 [==============================] - 0s 17ms/step\n",
      "1/1 [==============================] - 0s 15ms/step\n",
      "1/1 [==============================] - 0s 15ms/step\n",
      "1/1 [==============================] - 0s 18ms/step\n",
      "1/1 [==============================] - 0s 16ms/step\n",
      "1/1 [==============================] - 0s 17ms/step\n",
      "1/1 [==============================] - 0s 16ms/step\n",
      "1/1 [==============================] - 0s 16ms/step\n",
      "1/1 [==============================] - 0s 17ms/step\n",
      "1/1 [==============================] - 0s 17ms/step\n",
      "1/1 [==============================] - 0s 16ms/step\n",
      "1/1 [==============================] - 0s 18ms/step\n",
      "1/1 [==============================] - 0s 15ms/step\n",
      "1/1 [==============================] - 0s 16ms/step\n",
      "1/1 [==============================] - 0s 16ms/step\n",
      "1/1 [==============================] - 0s 18ms/step\n",
      "1/1 [==============================] - 0s 15ms/step\n",
      "1/1 [==============================] - 0s 15ms/step\n",
      "1/1 [==============================] - 0s 16ms/step\n",
      "1/1 [==============================] - 0s 16ms/step\n",
      "1/1 [==============================] - 0s 15ms/step\n",
      "Press a number (0-9) to save hand landmarks for the corresponding class.\n",
      "1/1 [==============================] - 0s 17ms/step\n",
      "1/1 [==============================] - 0s 16ms/step\n",
      "1/1 [==============================] - 0s 16ms/step\n",
      "1/1 [==============================] - 0s 18ms/step\n",
      "1/1 [==============================] - 0s 16ms/step\n",
      "1/1 [==============================] - 0s 16ms/step\n",
      "1/1 [==============================] - 0s 16ms/step\n",
      "1/1 [==============================] - 0s 16ms/step\n",
      "1/1 [==============================] - 0s 17ms/step\n",
      "1/1 [==============================] - 0s 16ms/step\n",
      "1/1 [==============================] - 0s 16ms/step\n",
      "1/1 [==============================] - 0s 16ms/step\n",
      "1/1 [==============================] - 0s 16ms/step\n",
      "1/1 [==============================] - 0s 17ms/step\n",
      "1/1 [==============================] - 0s 16ms/step\n",
      "1/1 [==============================] - 0s 16ms/step\n",
      "1/1 [==============================] - 0s 16ms/step\n",
      "1/1 [==============================] - 0s 15ms/step\n",
      "1/1 [==============================] - 0s 16ms/step\n",
      "1/1 [==============================] - 0s 17ms/step\n",
      "1/1 [==============================] - 0s 17ms/step\n",
      "1/1 [==============================] - 0s 16ms/step\n",
      "1/1 [==============================] - 0s 16ms/step\n",
      "1/1 [==============================] - 0s 15ms/step\n",
      "1/1 [==============================] - 0s 16ms/step\n",
      "Hand landmarks saved for class 0\n",
      "1/1 [==============================] - 0s 16ms/step\n",
      "1/1 [==============================] - 0s 16ms/step\n",
      "1/1 [==============================] - 0s 16ms/step\n",
      "1/1 [==============================] - 0s 16ms/step\n",
      "1/1 [==============================] - 0s 16ms/step\n",
      "1/1 [==============================] - 0s 18ms/step\n",
      "1/1 [==============================] - 0s 17ms/step\n",
      "1/1 [==============================] - 0s 17ms/step\n",
      "1/1 [==============================] - 0s 17ms/step\n",
      "1/1 [==============================] - 0s 18ms/step\n",
      "1/1 [==============================] - 0s 17ms/step\n",
      "1/1 [==============================] - 0s 17ms/step\n",
      "1/1 [==============================] - 0s 19ms/step\n",
      "1/1 [==============================] - 0s 16ms/step\n"
     ]
    }
   ],
   "source": [
    "# Initialize the webcam\n",
    "cap = cv2.VideoCapture(0)\n",
    "\n",
    "# Initialize vertical position for hand information\n",
    "y_position = 50\n",
    "\n",
    "# Initialize mode\n",
    "mode = 0\n",
    "\n",
    "while True:\n",
    "    # Read each frame from the webcam\n",
    "    _, frame = cap.read()\n",
    "    x, y, c = frame.shape\n",
    "\n",
    "    # Flip the frame horizontally\n",
    "    frame = cv2.flip(frame, 1) # to mirrior the image\n",
    "    framergb = cv2.cvtColor(frame, cv2.COLOR_BGR2RGB) # Convert the BGR image to RGB before processing For mediapipe\n",
    "\n",
    "    # Get hand landmark prediction\n",
    "    result = hands.process(framergb)\n",
    "\n",
    "    # Post process the result\n",
    "    # Check if there are multiple hand landmarks detected in the frame\n",
    "    if result.multi_hand_landmarks:\n",
    "        # Iterate over each detected hand and its handedness information\n",
    "        for handslms, handedness in zip(result.multi_hand_landmarks, result.multi_handedness):\n",
    "            # Initialize an empty list to store hand landmarks\n",
    "            landmarks = []\n",
    "\n",
    "            # Iterate over each landmark in the hand\n",
    "            for lm in handslms.landmark:\n",
    "                # Convert normalized coordinates to pixel coordinates based on the frame size\n",
    "                lmx = int(lm.x * x)\n",
    "                lmy = int(lm.y * y)\n",
    "\n",
    "                # Append the pixel coordinates of the landmark to the list\n",
    "                landmarks.append([lmx, lmy])\n",
    "\n",
    "            # Determine hand color and name based on handedness.  handedness -> determine left or right hand\n",
    "            if handedness.classification[0].label == 'Left':\n",
    "                hand_color = (0, 255, 0)\n",
    "                hand_name = 'Left Hand'\n",
    "            else:\n",
    "                hand_color = (255, 0, 0)\n",
    "                hand_name = 'Right Hand'\n",
    "            \n",
    "            # Draw landmarks on the frame\n",
    "            mpDraw.draw_landmarks(frame, handslms, mpHands.HAND_CONNECTIONS,\n",
    "                                  landmark_drawing_spec=mpDraw.DrawingSpec(color=hand_color))\n",
    "\n",
    "            # Flatten the landmarks before predicting\n",
    "            flat_landmarks = [item for sublist in landmarks for item in sublist]\n",
    "            flat_landmarks = np.array(flat_landmarks).reshape(1, -1)\n",
    "\n",
    "            # Predict gesture\n",
    "            prediction = model.predict(flat_landmarks)\n",
    "            # prediction = model.predict(landmarks)\n",
    "            classID = np.argmax(prediction) # get the index of the max value (probability)\n",
    "            className = classNames[classID]\n",
    "\n",
    "            # Show hand information on separate lines\n",
    "            cv2.putText(frame, f\"{hand_name}: {className}\", (10, y_position),\n",
    "                        cv2.FONT_HERSHEY_SIMPLEX, 1, hand_color, 2, cv2.LINE_AA)\n",
    "\n",
    "            # Check for keypress 'k' to enter mode 1\n",
    "            key = cv2.waitKey(1)\n",
    "            if key == ord('k'):\n",
    "                print(\"Press a number (0-9) to save hand landmarks for the corresponding class.\")\n",
    "                mode = 1\n",
    "\n",
    "            # If in mode 1 and a number key (0-9) is pressed, save landmarks to CSV\n",
    "            if mode == 1 and ord('0') <= key <= ord('9'):\n",
    "                number = int(chr(key))\n",
    "                csv_path = 'keypoint.csv'\n",
    "                with open(csv_path, 'a', newline=\"\") as f:\n",
    "                    writer = csv.writer(f)\n",
    "                    flat_landmarks = [item for sublist in landmarks for item in sublist]\n",
    "                    writer.writerow([number] + flat_landmarks)\n",
    "                print(f\"Hand landmarks saved for class {number}\")\n",
    "                # Reset mode after saving\n",
    "                mode = 0\n",
    "\n",
    "            # Show mode-related text on the frame\n",
    "            if mode == 1:\n",
    "                cv2.putText(frame, \"Enter class (0-9):\", (10, y_position + 30),\n",
    "                            cv2.FONT_HERSHEY_SIMPLEX, 1, (0, 0, 255), 2, cv2.LINE_AA)\n",
    "\n",
    "\n",
    "    # Reset vertical position for the next frame\n",
    "    y_position = 50\n",
    "\n",
    "    # Show the final output\n",
    "    cv2.imshow(\"Output\", frame)\n",
    "\n",
    "    if cv2.waitKey(1) == ord('q'):\n",
    "        break\n",
    "\n",
    "# Release the webcam and destroy all active windows\n",
    "cap.release()\n",
    "cv2.destroyAllWindows()"
   ]
  }
 ],
 "metadata": {
  "accelerator": "GPU",
  "colab": {
   "collapsed_sections": [],
   "name": "keypoint_classification_EN.ipynb",
   "provenance": [],
   "toc_visible": true
  },
  "kernelspec": {
   "display_name": "Python 3 (ipykernel)",
   "language": "python",
   "name": "python3"
  },
  "language_info": {
   "codemirror_mode": {
    "name": "ipython",
    "version": 3
   },
   "file_extension": ".py",
   "mimetype": "text/x-python",
   "name": "python",
   "nbconvert_exporter": "python",
   "pygments_lexer": "ipython3",
   "version": "3.11.5"
  }
 },
 "nbformat": 4,
 "nbformat_minor": 4
}
